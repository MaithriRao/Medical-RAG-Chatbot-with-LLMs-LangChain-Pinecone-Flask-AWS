{
 "cells": [
  {
   "cell_type": "code",
   "execution_count": null,
   "id": "94d06246",
   "metadata": {},
   "outputs": [],
   "source": [
    "from langchain.document_loaders import PyPDFLoader, DirectoryLoader\n",
    "from langchain.text_splitter import RecursiveCharacterTextSplitter"
   ]
  },
  {
   "cell_type": "code",
   "execution_count": null,
   "id": "268f7497-46c5-445d-bd38-a46de362f5a3",
   "metadata": {},
   "outputs": [],
   "source": [
    "def load_pdf_file(data):\n",
    "    loader= DirectoryLoader(data,\n",
    "                            glob=\"*.pdf\",\n",
    "                            loader_cls=PyPDFLoader)\n",
    "\n",
    "    documents=loader.load()\n",
    "\n",
    "    return documents\n",
    "extracted_data=load_pdf_file(data='../data')    "
   ]
  },
  {
   "cell_type": "code",
   "execution_count": null,
   "id": "940c4002-a60e-41cf-9256-aef12d9874bf",
   "metadata": {},
   "outputs": [],
   "source": [
    "extracted_data[:5]\n",
    "len(extracted_data)"
   ]
  },
  {
   "cell_type": "code",
   "execution_count": null,
   "id": "7b591e1c-0be9-4559-b6cb-bffce3ad2cb4",
   "metadata": {},
   "outputs": [],
   "source": [
    "from typing import List\n",
    "from langchain.schema import Document\n",
    "def filter_to_minimal_docs(docs: List[Document]) -> List[Document]:\n",
    "    \"\"\"\n",
    "    Given a list of Document objects, return a new list of Document objects\n",
    "    containing only 'source' in metadata and the original page_content.\n",
    "    \"\"\"\n",
    "    minimal_docs: List[Document] = []\n",
    "    for doc in docs:\n",
    "        src = doc.metadata.get(\"source\")\n",
    "        minimal_docs.append(\n",
    "            Document(\n",
    "                page_content=doc.page_content,\n",
    "                metadata={\"source\": src}\n",
    "            )\n",
    "        )\n",
    "    return minimal_docs\n",
    "\n",
    "minimal_docs = filter_to_minimal_docs(extracted_data) "
   ]
  },
  {
   "cell_type": "code",
   "execution_count": null,
   "id": "0dc443e6-34cd-47fb-b8d8-1f96013af697",
   "metadata": {},
   "outputs": [],
   "source": [
    "minimal_docs[:6]"
   ]
  },
  {
   "cell_type": "code",
   "execution_count": null,
   "id": "4bdd8b82-d743-432c-a5c8-f899c502ced3",
   "metadata": {},
   "outputs": [],
   "source": [
    "def text_split(extracted_data):\n",
    "    text_splitter=RecursiveCharacterTextSplitter(chunk_size=500, chunk_overlap=20)\n",
    "    text_chunks=text_splitter.split_documents(extracted_data)\n",
    "    return text_chunks\n"
   ]
  },
  {
   "cell_type": "code",
   "execution_count": null,
   "id": "37c4d943-d354-43e9-8d88-ad3f0a26fd37",
   "metadata": {},
   "outputs": [],
   "source": [
    "text_chunks = text_split(minimal_docs)\n",
    "print(f\"Number of chunks: {len(text_chunks)}\")"
   ]
  },
  {
   "cell_type": "code",
   "execution_count": null,
   "id": "90dd9295-590e-4147-97e2-b33a782c7b3a",
   "metadata": {},
   "outputs": [],
   "source": [
    "from langchain.embeddings import HuggingFaceEmbeddings"
   ]
  },
  {
   "cell_type": "code",
   "execution_count": null,
   "id": "3e221481-64b1-4671-99d4-eef9343bbf28",
   "metadata": {},
   "outputs": [],
   "source": [
    "def download_embeddings():\n",
    "    embeddings=HuggingFaceEmbeddings(model_name='sentence-transformers/all-MiniLM-L6-v2')  #this model return 384 dimensions\n",
    "    return embeddings"
   ]
  },
  {
   "cell_type": "code",
   "execution_count": null,
   "id": "587d7e2d-686f-4477-86f2-0262aad8d5ff",
   "metadata": {},
   "outputs": [],
   "source": [
    "embeddings = download_embeddings()"
   ]
  },
  {
   "cell_type": "code",
   "execution_count": null,
   "id": "62693ea2-53bf-4c8e-abb1-d8c1d161f9e6",
   "metadata": {},
   "outputs": [],
   "source": [
    "embeddings"
   ]
  },
  {
   "cell_type": "code",
   "execution_count": null,
   "id": "938eeeda-41b5-409f-bcbf-276d8a2d159c",
   "metadata": {},
   "outputs": [],
   "source": [
    "from dotenv import load_dotenv\n",
    "import os\n",
    "load_dotenv() \n",
    "from pinecone import Pinecone\n",
    "PINECONE_API_KEY = os.getenv(\"PINECONE_API_KEY\")\n",
    "pinecone_api_key = PINECONE_API_KEY\n",
    "pc = Pinecone(api_key=pinecone_api_key) # to authenticate with Pinecone account"
   ]
  },
  {
   "cell_type": "code",
   "execution_count": null,
   "id": "fbc06ca2-4f63-4ae5-9691-3a44d20aa2b6",
   "metadata": {},
   "outputs": [],
   "source": [
    "pc"
   ]
  },
  {
   "cell_type": "code",
   "execution_count": null,
   "id": "9f2e5dbb-9ef0-46c7-8fea-151980837019",
   "metadata": {},
   "outputs": [],
   "source": [
    "from pinecone import ServerlessSpec\n",
    "index_name = \"medical-chatbot\"\n",
    "if not pc.has_index(index_name):\n",
    "    pc.create_index(name=index_name,\n",
    "                   dimension=384,\n",
    "                   metric=\"cosine\",\n",
    "                   spec=ServerlessSpec(cloud=\"aws\", region=\"us-east-1\"))\n",
    "\n",
    "index = pc.Index(index_name)\n",
    "    "
   ]
  },
  {
   "cell_type": "code",
   "execution_count": null,
   "id": "26642cbb-3a5b-418a-9ef7-6afee540719c",
   "metadata": {},
   "outputs": [],
   "source": [
    "from langchain_pinecone import PineconeVectorStore\n",
    "\n",
    "# ----------------------------------------------------------------------\n",
    "# --- INITIAL DATA INGESTION: ONLY execute this block the FIRST time ---\n",
    "# This step creates the vector embeddings from your documents (text_chunks)\n",
    "# and uploads them to the Pinecone index for persistent storage/ Pinecone vector db.\n",
    "# Once the index is created, keep this block commented out.\n",
    "# ----------------------------------------------------------------------\n",
    "\n",
    "# docsearch = PineconeVectorStore.from_documents(\n",
    "#     documents=text_chunks,\n",
    "#     embedding=embeddings,\n",
    "#     index_name=index_name,\n",
    "# )"
   ]
  },
  {
   "cell_type": "code",
   "execution_count": null,
   "id": "a9928ff0-f22e-46e6-8b80-f94082cc0f23",
   "metadata": {},
   "outputs": [],
   "source": [
    "#Load existing index \n",
    "docsearch = PineconeVectorStore.from_existing_index(\n",
    "    index_name=index_name,\n",
    "    embedding=embeddings\n",
    ")"
   ]
  },
  {
   "cell_type": "code",
   "execution_count": null,
   "id": "1b726d47-3e4f-4990-bea9-b15533f6f929",
   "metadata": {},
   "outputs": [],
   "source": [
    "dummy_docs = Document(\n",
    "        page_content=\"The Phase 3 trial of 'Medication X' demonstrated an 85% efficacy rate, leading to its new classification as a first-line treatment for Condition Z.\",\n",
    "        metadata={\"source\": \"Youtube\"}\n",
    "    )"
   ]
  },
  {
   "cell_type": "code",
   "execution_count": null,
   "id": "a270b710-78a3-473a-a27a-20bf9932becf",
   "metadata": {},
   "outputs": [],
   "source": [
    "docsearch.add_documents(\n",
    "    documents=[dummy_docs])"
   ]
  },
  {
   "cell_type": "code",
   "execution_count": null,
   "id": "38869887-b9aa-4326-b0e5-00d092219869",
   "metadata": {},
   "outputs": [],
   "source": [
    "retriever = docsearch.as_retriever(search_type=\"similarity\", search_kwargs={\"k\":3})"
   ]
  },
  {
   "cell_type": "code",
   "execution_count": null,
   "id": "de120b1c-f4fa-47fc-9baf-6d86842c6fb5",
   "metadata": {},
   "outputs": [],
   "source": [
    "retrieved_docs = retriever.invoke(\"What is Acne\")"
   ]
  },
  {
   "cell_type": "code",
   "execution_count": null,
   "id": "80ca6203-1b93-47c6-b4c0-ba42b794d6f7",
   "metadata": {},
   "outputs": [],
   "source": [
    "retrieved_docs # 3 responses as k = 3. In  next step refine this responses using LLM"
   ]
  },
  {
   "cell_type": "code",
   "execution_count": null,
   "id": "95dc5627-4cab-4aa1-8a5c-fcf6834dcea7",
   "metadata": {},
   "outputs": [],
   "source": [
    "from langchain_openai import ChatOpenAI\n",
    "OPENAI_API_KEY=os.environ.get('OPENAI_API_KEY')\n",
    "os.environ[\"OPEN_API_KEY\"] = OPENAI_API_KEY\n",
    "\n",
    "# OPENAI_KEY_VALUE = os.environ.get('OPEN_API_KEY') # Retrieve your custom variable"
   ]
  },
  {
   "cell_type": "code",
   "execution_count": null,
   "id": "ba7015bb-e1e5-4ae2-a8df-6580f31c96a1",
   "metadata": {},
   "outputs": [],
   "source": [
    "from langchain_core.prompts import ChatPromptTemplate\n",
    "from langchain.chains import create_retrieval_chain\n",
    "from langchain.chains.combine_documents import create_stuff_documents_chain\n",
    "system_prompt = (\n",
    "    \"You are an Medical assistant for question-answering tasks. \"\n",
    "    \"Use the following pieces of retrieved context to answer \"\n",
    "    \"the question. If you don't know the answer, say that you \"\n",
    "    \"don't know. Use three sentences maximum and keep the \"\n",
    "    \"answer concise.\"\n",
    "    \"\\n\\n\"\n",
    "    \"{context}\"\n",
    ")\n",
    "\n",
    "chatModel = ChatOpenAI(model=\"gpt-4o\")\n",
    "prompt = ChatPromptTemplate.from_messages(\n",
    "    [\n",
    "        (\"system\", system_prompt),\n",
    "        (\"human\", \"{input}\"),\n",
    "    ]\n",
    ")\n",
    "\n",
    "question_answer_chain = create_stuff_documents_chain(chatModel, prompt)\n",
    "rag_chain = create_retrieval_chain(retriever, question_answer_chain)\n"
   ]
  },
  {
   "cell_type": "code",
   "execution_count": null,
   "id": "7dcb0223-77b8-4177-8ba8-8c0144be25ac",
   "metadata": {},
   "outputs": [],
   "source": [
    "response = rag_chain.invoke({\"input\": \"What is Acromegaly and gigantism\"})\n",
    "print(\"Response : \", response[\"answer\"])"
   ]
  },
  {
   "cell_type": "code",
   "execution_count": null,
   "id": "4ae803a0-dfca-4256-8796-421501cdb572",
   "metadata": {},
   "outputs": [],
   "source": []
  }
 ],
 "metadata": {
  "language_info": {
   "name": "python"
  }
 },
 "nbformat": 4,
 "nbformat_minor": 5
}
